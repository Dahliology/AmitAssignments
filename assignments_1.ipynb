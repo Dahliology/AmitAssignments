{
  "cells": [
    {
      "cell_type": "markdown",
      "metadata": {
        "id": "view-in-github",
        "colab_type": "text"
      },
      "source": [
        "<a href=\"https://colab.research.google.com/github/Dahliology/AmitAssignments/blob/main/assignments_1.ipynb\" target=\"_parent\"><img src=\"https://colab.research.google.com/assets/colab-badge.svg\" alt=\"Open In Colab\"/></a>"
      ]
    },
    {
      "cell_type": "markdown",
      "metadata": {
        "id": "WNEWD9hoA2Lr"
      },
      "source": [
        "<img src=\"https://i.redd.it/6brfmxf7b8ga1.png\" alt=\"Italian Trulli\">\n"
      ]
    },
    {
      "cell_type": "markdown",
      "metadata": {
        "id": "ev3RXIw1Jas5"
      },
      "source": [
        "### Exercise on data types"
      ]
    },
    {
      "cell_type": "markdown",
      "metadata": {
        "id": "xSe8nXGyJs_j"
      },
      "source": [
        "## <font color='red'>What data type would that be?</font>"
      ]
    },
    {
      "cell_type": "markdown",
      "metadata": {
        "id": "j_-RJr75JlQr"
      },
      "source": [
        "x = 5\n",
        "\n",
        "print(type(x))\n",
        "\n",
        "INT"
      ]
    },
    {
      "cell_type": "markdown",
      "metadata": {
        "id": "9vglOoDPJ5Ou"
      },
      "source": [
        "#### x = \"Hello World\"\n",
        "#### print(type(x))\n",
        "### String\n"
      ]
    },
    {
      "cell_type": "markdown",
      "metadata": {
        "id": "luhdBZJkKDMT"
      },
      "source": [
        "#### x = 20.5\n",
        "#### print(type(x))\n",
        "#### Float"
      ]
    },
    {
      "cell_type": "markdown",
      "metadata": {
        "id": "N8OO1mGhKC9u"
      },
      "source": [
        "#### x = [\"apple\", \"banana\", \"cherry\"]\n",
        "#### print(type(x))\n",
        "#### List"
      ]
    },
    {
      "cell_type": "markdown",
      "metadata": {
        "id": "cvV5m5_FKC2Y"
      },
      "source": [
        "#### x = (\"apple\", \"banana\", \"cherry\")\n",
        "#### print(type(x))\n",
        "###  Tuple"
      ]
    },
    {
      "cell_type": "markdown",
      "metadata": {
        "id": "v6tA1ZLGKSej"
      },
      "source": [
        "#### x = {\"name\" : \"John\", \"age\" : 36}\n",
        "#### print(type(x))\n",
        "\n",
        "## Dictionnary"
      ]
    },
    {
      "cell_type": "markdown",
      "metadata": {
        "id": "sWMa3--SKbOz"
      },
      "source": [
        "#### x = True\n",
        "#### print(type(x))\n",
        "\n",
        "Boolean"
      ]
    },
    {
      "cell_type": "markdown",
      "metadata": {
        "id": "cV1O8CWnOD_A"
      },
      "source": [
        "## Exercise on Numbers"
      ]
    },
    {
      "cell_type": "markdown",
      "metadata": {
        "id": "66MX7NUrMOj9"
      },
      "source": [
        "#### Insert the correct syntax to convert x into a floating point number.\n",
        "\n"
      ]
    },
    {
      "cell_type": "code",
      "execution_count": 2,
      "metadata": {
        "id": "mbA3Hg9WKz4S",
        "colab": {
          "base_uri": "https://localhost:8080/"
        },
        "outputId": "4ae3ce44-0c62-48a1-8a52-dc1b3f3b9c9f"
      },
      "outputs": [
        {
          "output_type": "stream",
          "name": "stdout",
          "text": [
            "5.0\n"
          ]
        }
      ],
      "source": [
        "x = 5\n",
        "x= float(x)\n",
        "print(x)"
      ]
    },
    {
      "cell_type": "markdown",
      "metadata": {
        "id": "PfSGwBekMbfe"
      },
      "source": [
        "### Insert the correct syntax to convert x into a integer.\n",
        "\n"
      ]
    },
    {
      "cell_type": "code",
      "execution_count": 4,
      "metadata": {
        "id": "4u7ID11XMZ1z",
        "colab": {
          "base_uri": "https://localhost:8080/"
        },
        "outputId": "7d31fc70-1a3a-4017-84b0-03c4d2557517"
      },
      "outputs": [
        {
          "output_type": "stream",
          "name": "stdout",
          "text": [
            "5\n"
          ]
        }
      ],
      "source": [
        "x = 5.5\n",
        "x= int(x)\n",
        "print(x)"
      ]
    },
    {
      "cell_type": "markdown",
      "metadata": {
        "id": "QEHJkfIyOI3l"
      },
      "source": [
        "## Exercise on string"
      ]
    },
    {
      "cell_type": "markdown",
      "metadata": {
        "id": "vxDMzNuZM23J"
      },
      "source": [
        "### Use the `len()` function to print the length of the string.\n",
        "\n"
      ]
    },
    {
      "cell_type": "code",
      "execution_count": 6,
      "metadata": {
        "id": "LnECWV7kMwtZ",
        "colab": {
          "base_uri": "https://localhost:8080/"
        },
        "outputId": "31ee9026-61c2-492f-df1e-ea14d636c146"
      },
      "outputs": [
        {
          "output_type": "stream",
          "name": "stdout",
          "text": [
            "11\n"
          ]
        }
      ],
      "source": [
        "x = \"Hello World\"\n",
        "print(len(x))"
      ]
    },
    {
      "cell_type": "markdown",
      "metadata": {
        "id": "B3G8CsbwNBzE"
      },
      "source": [
        "### Get the first character of the string txt.\n",
        "\n"
      ]
    },
    {
      "cell_type": "code",
      "execution_count": 8,
      "metadata": {
        "id": "i82C_E7IM_N_",
        "colab": {
          "base_uri": "https://localhost:8080/"
        },
        "outputId": "f7017ae5-8518-4a38-a0c4-f2100cacaa54"
      },
      "outputs": [
        {
          "output_type": "stream",
          "name": "stdout",
          "text": [
            "H\n"
          ]
        }
      ],
      "source": [
        "txt = \"Hello World\"\n",
        "x = txt[0]\n",
        "print(x)"
      ]
    },
    {
      "cell_type": "markdown",
      "metadata": {
        "id": "eujFCvXmNKL5"
      },
      "source": [
        "### Get the characters from index 2 to index 4 (llo).\n",
        "\n"
      ]
    },
    {
      "cell_type": "code",
      "execution_count": 10,
      "metadata": {
        "id": "Spath1coNHS1",
        "colab": {
          "base_uri": "https://localhost:8080/"
        },
        "outputId": "c92d8d04-de0a-47d7-e32c-5ffae5b410aa"
      },
      "outputs": [
        {
          "output_type": "stream",
          "name": "stdout",
          "text": [
            "llo\n"
          ]
        }
      ],
      "source": [
        "txt = \"Hello World\"\n",
        "x =txt[2:5]\n",
        "print(x)\n"
      ]
    },
    {
      "cell_type": "markdown",
      "metadata": {
        "id": "Rwv-8T_-NmeZ"
      },
      "source": [
        "##### Return the string without any whitespace at the beginning or the end.\n",
        "##### hint ` txt.strip()`\n"
      ]
    },
    {
      "cell_type": "code",
      "execution_count": 13,
      "metadata": {
        "id": "pg7InD_MNgBU",
        "colab": {
          "base_uri": "https://localhost:8080/"
        },
        "outputId": "68c13487-b115-43e4-fa80-95145eb4ea33"
      },
      "outputs": [
        {
          "output_type": "stream",
          "name": "stdout",
          "text": [
            "Hello World\n"
          ]
        }
      ],
      "source": [
        "txt = \" Hello World \"\n",
        "x = txt.strip()\n",
        "print(x)"
      ]
    },
    {
      "cell_type": "markdown",
      "metadata": {
        "id": "gpoiVkmQOSc2"
      },
      "source": [
        "### Convert the value of `txt` to upper case.\n",
        "\n"
      ]
    },
    {
      "cell_type": "code",
      "execution_count": 14,
      "metadata": {
        "id": "30sq8_UBOPpH",
        "colab": {
          "base_uri": "https://localhost:8080/"
        },
        "outputId": "79376c1e-4e69-473c-e544-0297d962c9af"
      },
      "outputs": [
        {
          "output_type": "stream",
          "name": "stdout",
          "text": [
            "HELLO WORLD\n"
          ]
        }
      ],
      "source": [
        "txt = \"Hello World\"\n",
        "txt = txt.upper()\n",
        "print(txt)\n"
      ]
    },
    {
      "cell_type": "markdown",
      "metadata": {
        "id": "-UpA2zFdOedr"
      },
      "source": [
        "### Convert the value of `txt` to lower case.\n",
        "\n"
      ]
    },
    {
      "cell_type": "code",
      "execution_count": 15,
      "metadata": {
        "id": "eIYJ6Jp2OclU",
        "colab": {
          "base_uri": "https://localhost:8080/"
        },
        "outputId": "ab629814-89bc-4183-d9bb-7dcc8666b786"
      },
      "outputs": [
        {
          "output_type": "stream",
          "name": "stdout",
          "text": [
            "hello world\n"
          ]
        }
      ],
      "source": [
        "txt = \"Hello World\"\n",
        "txt = txt.lower()\n",
        "print(txt)"
      ]
    },
    {
      "cell_type": "markdown",
      "metadata": {
        "id": "WGC7GEv4Op57"
      },
      "source": [
        "#### Replace the character` H` with a `J`"
      ]
    },
    {
      "cell_type": "code",
      "execution_count": 17,
      "metadata": {
        "id": "asaMSta8OuXu",
        "colab": {
          "base_uri": "https://localhost:8080/"
        },
        "outputId": "e592066f-0ddc-4dcb-def6-1d5971698bec"
      },
      "outputs": [
        {
          "output_type": "stream",
          "name": "stdout",
          "text": [
            "Jello World\n"
          ]
        }
      ],
      "source": [
        "txt = \"Hello World\"\n",
        "txt = txt.replace(\"H\",\"J\")\n",
        "print(txt)"
      ]
    },
    {
      "cell_type": "markdown",
      "metadata": {
        "id": "fx_3gDLmO9c5"
      },
      "source": [
        "#### Insert the correct syntax to add a placeholder for the age parameter.\n",
        "\n"
      ]
    },
    {
      "cell_type": "code",
      "execution_count": 18,
      "metadata": {
        "id": "pbF00OzXO_pd",
        "colab": {
          "base_uri": "https://localhost:8080/"
        },
        "outputId": "25301fcd-096c-4150-f702-fe6883941163"
      },
      "outputs": [
        {
          "output_type": "stream",
          "name": "stdout",
          "text": [
            "My name is John, and I am 36\n"
          ]
        }
      ],
      "source": [
        "age = 36\n",
        "txt = f\"My name is John, and I am {age}\"\n",
        "print(txt)"
      ]
    },
    {
      "cell_type": "markdown",
      "metadata": {
        "id": "aMfwLHLFQJt5"
      },
      "source": [
        "### Exercise on Booleans"
      ]
    },
    {
      "cell_type": "markdown",
      "metadata": {
        "id": "5LwqGd-4X6fz"
      },
      "source": [
        "The statement below would print a Boolean value, which one?\n",
        "\n"
      ]
    },
    {
      "cell_type": "code",
      "execution_count": 20,
      "metadata": {
        "id": "KE6bHyeFXwy_",
        "colab": {
          "base_uri": "https://localhost:8080/"
        },
        "outputId": "4b5bda1b-819c-4ed5-e04d-ee6533d525c8"
      },
      "outputs": [
        {
          "output_type": "stream",
          "name": "stdout",
          "text": [
            "True\n"
          ]
        }
      ],
      "source": [
        "print(10 > 9)"
      ]
    },
    {
      "cell_type": "markdown",
      "metadata": {
        "id": "5qq9bEvzX8d4"
      },
      "source": [
        "The statement below would print a Boolean value, which one?\n",
        "\n"
      ]
    },
    {
      "cell_type": "code",
      "execution_count": 21,
      "metadata": {
        "id": "36MAoCaZX2k9",
        "colab": {
          "base_uri": "https://localhost:8080/"
        },
        "outputId": "f77474be-3b2f-4fdd-ab34-74dbe2bab8a3"
      },
      "outputs": [
        {
          "output_type": "stream",
          "name": "stdout",
          "text": [
            "False\n"
          ]
        }
      ],
      "source": [
        "print(10 == 9)"
      ]
    },
    {
      "cell_type": "markdown",
      "metadata": {
        "id": "I9flckHvYFLD"
      },
      "source": [
        "The statement below would print a Boolean value, which one?\n",
        "\n"
      ]
    },
    {
      "cell_type": "code",
      "execution_count": 22,
      "metadata": {
        "id": "vRTYkmrrYDcl",
        "colab": {
          "base_uri": "https://localhost:8080/"
        },
        "outputId": "3d0189a2-d5a5-4b20-d26c-1f1a7189cb76"
      },
      "outputs": [
        {
          "output_type": "stream",
          "name": "stdout",
          "text": [
            "False\n"
          ]
        }
      ],
      "source": [
        "print(10 < 9)\n"
      ]
    },
    {
      "cell_type": "markdown",
      "metadata": {
        "id": "JRDSFOOWA4zY"
      },
      "source": [
        "### <font color='gold'>Exercise-1</font>"
      ]
    },
    {
      "cell_type": "markdown",
      "metadata": {
        "id": "Dx9awHoPBT5a"
      },
      "source": [
        "#### Write a Python program to print the following string in a specific format"
      ]
    },
    {
      "cell_type": "code",
      "execution_count": 35,
      "metadata": {
        "id": "gfBPq-8u_zDb",
        "colab": {
          "base_uri": "https://localhost:8080/"
        },
        "outputId": "d58eba3a-3fac-4053-9bf5-a0408cc993ab"
      },
      "outputs": [
        {
          "output_type": "stream",
          "name": "stdout",
          "text": [
            " Twinkle, twinkle, little star,\n",
            " \tHow I wonder what you are!\n",
            "\t\tUp above the world so high,\n",
            " \t\tLike a diamond in the sky.\n",
            " Twinkle, twinkle, little star,\n",
            " \tHow I wonder what you are!\n"
          ]
        }
      ],
      "source": [
        "Text=''' Twinkle, twinkle, little star,\n",
        " \tHow I wonder what you are!\n",
        "\t\tUp above the world so high,\n",
        " \t\tLike a diamond in the sky.\n",
        " Twinkle, twinkle, little star,\n",
        " \tHow I wonder what you are!'''\n",
        "\n",
        "print(Text)"
      ]
    },
    {
      "cell_type": "markdown",
      "metadata": {
        "id": "G-u5KbN6B4YA"
      },
      "source": [
        "### <font color='gold'>Exercise-2</font>"
      ]
    },
    {
      "cell_type": "markdown",
      "metadata": {
        "id": "1bEAep2SCDB2"
      },
      "source": [
        "#### Write a Python program that print the user's first and last name and prints them in reverse order with a space between them."
      ]
    },
    {
      "cell_type": "code",
      "source": [
        "FirstName = input(\"Please Enter Your First\\n >>> \")\n",
        "LastName = input(\"Please Enter Your Last Name \\n >>>\")\n",
        "print(LastName,FirstName)\n"
      ],
      "metadata": {
        "colab": {
          "base_uri": "https://localhost:8080/"
        },
        "id": "A3AAv-KC5bYx",
        "outputId": "851a7afe-02d6-45b0-c087-deb1d4f02fdd"
      },
      "execution_count": 32,
      "outputs": [
        {
          "output_type": "stream",
          "name": "stdout",
          "text": [
            "Please Enter Your First\n",
            " >>> Dahlia\n",
            "Please Enter Your Last Name \n",
            " >>>Sherif\n",
            "Sherif Dahlia\n"
          ]
        }
      ]
    },
    {
      "cell_type": "markdown",
      "metadata": {
        "id": "VIq-DlzYCjcp"
      },
      "source": [
        "### <font color='gold'>Exercise-3</font>"
      ]
    },
    {
      "cell_type": "markdown",
      "metadata": {
        "id": "W2i_oZiJCg4W"
      },
      "source": [
        "#### Write a Python program that calculates the area of a circle and radius = 1.1"
      ]
    },
    {
      "cell_type": "code",
      "execution_count": 36,
      "metadata": {
        "colab": {
          "base_uri": "https://localhost:8080/"
        },
        "id": "SY8dP8Zk1i4g",
        "outputId": "efd0e587-0a77-47db-d058-390ef7d05d8a"
      },
      "outputs": [
        {
          "output_type": "stream",
          "name": "stdout",
          "text": [
            "3.7994000000000008\n"
          ]
        }
      ],
      "source": [
        "r=1.1\n",
        "area=3.14 *r**2\n",
        "\n",
        "print(area)"
      ]
    },
    {
      "cell_type": "markdown",
      "metadata": {
        "id": "3k4J4MTrDTTP"
      },
      "source": [
        "### <font color='gold'>Exercise-4</font>"
      ]
    },
    {
      "cell_type": "markdown",
      "metadata": {
        "id": "bODhD33ADPPZ"
      },
      "source": [
        "#### Write a Python program that accepts a filename from the user and prints the extension of the file."
      ]
    },
    {
      "cell_type": "markdown",
      "metadata": {
        "id": "IjgH1FN-DYQQ"
      },
      "source": [
        "Sample Output:\n",
        "Input the Filename: abc.java                                                                                  \n",
        "The  extension of the file is : 'java'"
      ]
    },
    {
      "cell_type": "code",
      "execution_count": 49,
      "metadata": {
        "colab": {
          "base_uri": "https://localhost:8080/"
        },
        "id": "H5Z0_SNB1i4h",
        "outputId": "598baf07-2a34-430c-a2c9-8215f0b0790a"
      },
      "outputs": [
        {
          "output_type": "stream",
          "name": "stdout",
          "text": [
            "py\n"
          ]
        }
      ],
      "source": [
        "filename=\"abc.py\"\n",
        "f_exts=filename.split(\".\")\n",
        "print(f_exts[-1])"
      ]
    },
    {
      "cell_type": "markdown",
      "metadata": {
        "id": "hBSeDAHcEGPC"
      },
      "source": [
        "### <font color='gold'>Exercise-5</font>"
      ]
    },
    {
      "cell_type": "markdown",
      "metadata": {
        "id": "gnuQ4Hx2D722"
      },
      "source": [
        "#### Covert from string to list and tuple value =\"Amit\""
      ]
    },
    {
      "cell_type": "code",
      "source": [
        "String ='Amit'\n",
        "print(list(String))\n",
        "print(String.split())\n",
        "print(tuple(String.split()))"
      ],
      "metadata": {
        "colab": {
          "base_uri": "https://localhost:8080/"
        },
        "id": "Z7qq_-Ih9kk-",
        "outputId": "db9c8cb9-db40-4d35-a533-b8ba66fface9"
      },
      "execution_count": 51,
      "outputs": [
        {
          "output_type": "stream",
          "name": "stdout",
          "text": [
            "['A', 'm', 'i', 't']\n",
            "['Amit']\n",
            "('Amit',)\n"
          ]
        }
      ]
    },
    {
      "cell_type": "markdown",
      "metadata": {
        "id": "OQbk5DiyEosj"
      },
      "source": [
        " ## After that"
      ]
    },
    {
      "cell_type": "markdown",
      "metadata": {
        "id": "40fcwVkKEzUl"
      },
      "source": [
        "### Relace the index 3 in the list"
      ]
    },
    {
      "cell_type": "code",
      "source": [
        "String= \"Amit\"\n",
        "String= list(String)\n",
        "String[2] = 3\n",
        "print(String)"
      ],
      "metadata": {
        "colab": {
          "base_uri": "https://localhost:8080/"
        },
        "id": "bWTKwUkJ_qX3",
        "outputId": "b7cc7d15-ef2a-4d4a-b45e-253af4a1a1d1"
      },
      "execution_count": 58,
      "outputs": [
        {
          "output_type": "stream",
          "name": "stdout",
          "text": [
            "['A', 'm', 3, 't']\n"
          ]
        }
      ]
    },
    {
      "cell_type": "markdown",
      "metadata": {
        "id": "Ka4ECE3nFBzU"
      },
      "source": [
        " ### Convert the list to string and print the list"
      ]
    },
    {
      "cell_type": "code",
      "source": [
        "# prompt: Convert the list to string and print the list\n",
        "\n",
        "String = ['A', 'm', '3', 't']\n",
        "String = ''.join(String)\n",
        "print(String)"
      ],
      "metadata": {
        "colab": {
          "base_uri": "https://localhost:8080/"
        },
        "id": "-5UP6vfX-lcF",
        "outputId": "19c8916d-c14b-4ee3-b433-dba2815d14ba"
      },
      "execution_count": 67,
      "outputs": [
        {
          "output_type": "stream",
          "name": "stdout",
          "text": [
            "Am3t\n"
          ]
        }
      ]
    },
    {
      "cell_type": "markdown",
      "metadata": {
        "id": "lpeuOl7cFmn4"
      },
      "source": [
        "### <font color='gold'>Exercise-6</font>"
      ]
    },
    {
      "cell_type": "markdown",
      "metadata": {
        "id": "RuREUX33FqQZ"
      },
      "source": [
        "#### Write a Python program to display the first and last colors from the following list.\n",
        "\n"
      ]
    },
    {
      "cell_type": "markdown",
      "metadata": {
        "id": "53ptUyHGFt9I"
      },
      "source": [
        "#### color_list = [\"Red\",\"Green\",\"White\" ,\"Black\"]\n",
        "\n"
      ]
    },
    {
      "cell_type": "markdown",
      "metadata": {
        "id": "Jl5tkntZGH4P"
      },
      "source": [
        "<img src=\"https://www.w3resource.com/w3r_images/python-basic-image-exercise-8.png\" alt=\"Italian Trulli\">\n"
      ]
    },
    {
      "cell_type": "code",
      "source": [
        "color_list = [\"Red\",\"Green\",\"White\" ,\"Black\"]\n",
        "print(color_list[0],color_list[-1])\n"
      ],
      "metadata": {
        "colab": {
          "base_uri": "https://localhost:8080/"
        },
        "id": "wTBHdcYU9HAL",
        "outputId": "a4403770-5649-4088-ede3-1030b023f45e"
      },
      "execution_count": 41,
      "outputs": [
        {
          "output_type": "stream",
          "name": "stdout",
          "text": [
            "Red Black\n"
          ]
        }
      ]
    },
    {
      "cell_type": "markdown",
      "metadata": {
        "id": "N7XOS7s1GlYW"
      },
      "source": [
        "## <font color='gold'>Exercise-7</font>"
      ]
    },
    {
      "cell_type": "markdown",
      "metadata": {
        "id": "atL1CkPLGhLS"
      },
      "source": [
        "#### Write a Python program to print the following 'here document'.\n",
        "\n"
      ]
    },
    {
      "cell_type": "code",
      "execution_count": null,
      "metadata": {
        "id": "YcD6QUiSGgq0"
      },
      "outputs": [],
      "source": [
        "#Sample Output:\n",
        "# a string that you \"don't\" have to escape\n",
        "# This\n",
        "# is a  ....... multi-line\n",
        "# heredoc string --------> example"
      ]
    },
    {
      "cell_type": "code",
      "execution_count": 68,
      "metadata": {
        "colab": {
          "base_uri": "https://localhost:8080/"
        },
        "id": "lMxDBiIJ1i4j",
        "outputId": "49df478e-11fe-4ca4-c153-35ba7fe67772"
      },
      "outputs": [
        {
          "output_type": "stream",
          "name": "stdout",
          "text": [
            "a string that you \"don't\" have to escape\n",
            " This \n",
            " is a  ....... multi-line \n",
            " heredoc string --------> example\n",
            "      \n",
            "      \n"
          ]
        }
      ],
      "source": [
        "print('''a string that you \"don't\" have to escape\\n This \\n is a  ....... multi-line \\n heredoc string --------> example\n",
        "\n",
        "      ''')"
      ]
    },
    {
      "cell_type": "code",
      "execution_count": 69,
      "metadata": {
        "colab": {
          "base_uri": "https://localhost:8080/"
        },
        "id": "dCvM334r1i4j",
        "outputId": "34618bdf-8f63-4ca0-b9af-50f302080eed"
      },
      "outputs": [
        {
          "output_type": "stream",
          "name": "stdout",
          "text": [
            "\"don't\"\n"
          ]
        }
      ],
      "source": [
        "print(\"\\\"don't\\\"\")"
      ]
    },
    {
      "cell_type": "markdown",
      "metadata": {
        "id": "fUUhCO3Saeuy"
      },
      "source": [
        "## <font color='gold'>Exercise- 8</font>"
      ]
    },
    {
      "cell_type": "markdown",
      "metadata": {
        "id": "D_736VyMZcpE"
      },
      "source": [
        "###### I need to  check if  link `https://www.google.com/` strart with https or not and if the ` aimt4536@gmail.com` end with .com"
      ]
    },
    {
      "cell_type": "code",
      "source": [
        "Link = \"https://www.google.com/\"\n",
        "Email= \"aimt4536@gmail.com\"\n",
        "print(Link.startswith(\"https\"))\n",
        "print(Email.endswith(\".com\"))"
      ],
      "metadata": {
        "colab": {
          "base_uri": "https://localhost:8080/"
        },
        "id": "jj7Sabp9CORz",
        "outputId": "80587f63-7dca-4d14-b752-29dc6fb4fa4d"
      },
      "execution_count": 70,
      "outputs": [
        {
          "output_type": "stream",
          "name": "stdout",
          "text": [
            "True\n",
            "True\n"
          ]
        }
      ]
    },
    {
      "cell_type": "markdown",
      "metadata": {
        "id": "Mpx-aFeYbnqW"
      },
      "source": [
        "# Thanks ❤"
      ]
    },
    {
      "cell_type": "markdown",
      "metadata": {
        "id": "dO7ga00LbWSq"
      },
      "source": [
        "<img src=\"https://pbs.twimg.com/media/ELwC6EgXYAE8AtN.jpg\" alt=\"Italian Trulli\">\n"
      ]
    },
    {
      "cell_type": "code",
      "execution_count": null,
      "metadata": {
        "id": "hnMq3s6hbmCo"
      },
      "outputs": [],
      "source": []
    }
  ],
  "metadata": {
    "colab": {
      "provenance": [],
      "include_colab_link": true
    },
    "kernelspec": {
      "display_name": "Python 3",
      "name": "python3"
    },
    "language_info": {
      "name": "python"
    }
  },
  "nbformat": 4,
  "nbformat_minor": 0
}