{
  "nbformat": 4,
  "nbformat_minor": 0,
  "metadata": {
    "colab": {
      "provenance": [],
      "authorship_tag": "ABX9TyN/sqIFR3BezMdlOwVP+sGu",
      "include_colab_link": true
    },
    "kernelspec": {
      "name": "python3",
      "display_name": "Python 3"
    },
    "language_info": {
      "name": "python"
    }
  },
  "cells": [
    {
      "cell_type": "markdown",
      "metadata": {
        "id": "view-in-github",
        "colab_type": "text"
      },
      "source": [
        "<a href=\"https://colab.research.google.com/github/Dahliology/AmitAssignments/blob/main/Assignment_4.ipynb\" target=\"_parent\"><img src=\"https://colab.research.google.com/assets/colab-badge.svg\" alt=\"Open In Colab\"/></a>"
      ]
    },
    {
      "cell_type": "markdown",
      "source": [
        "**Task 1 **:Write a Python program to create a calculator class. Include methods for basic arithmetic\n",
        "operations"
      ],
      "metadata": {
        "id": "I3M6d5KKirxH"
      }
    },
    {
      "cell_type": "code",
      "execution_count": null,
      "metadata": {
        "id": "VRiyLHLWiltF"
      },
      "outputs": [],
      "source": [
        "class Calculator():\n",
        "  def __init__(self):\n",
        "    self.Num1 = float(input(\"Enter first number: \"))\n",
        "    self.Num2 = float(input(\"Enter second number: \"))\n",
        "\n",
        "  def add(self):\n",
        "    return self.Num1 + self.Num2\n",
        "\n",
        "  def subtract(self):\n",
        "    return self.Num1 - self.Num2\n",
        "\n",
        "  def multiply(self):\n",
        "    return self.Num1 * self.Num2\n",
        "\n",
        "  def divide(self):\n",
        "    return self.Num1 / self.Num2"
      ]
    },
    {
      "cell_type": "code",
      "source": [
        "Calc= Calculator()\n",
        "Calc.add()"
      ],
      "metadata": {
        "colab": {
          "base_uri": "https://localhost:8080/"
        },
        "id": "zVQM712rjOy5",
        "outputId": "4e69995c-58b6-45db-8213-cf724c1e2e65"
      },
      "execution_count": null,
      "outputs": [
        {
          "name": "stdout",
          "output_type": "stream",
          "text": [
            "Enter first number: 5\n",
            "Enter second number: 10\n"
          ]
        },
        {
          "output_type": "execute_result",
          "data": {
            "text/plain": [
              "15.0"
            ]
          },
          "metadata": {},
          "execution_count": 2
        }
      ]
    },
    {
      "cell_type": "code",
      "source": [
        "Calc.subtract()"
      ],
      "metadata": {
        "colab": {
          "base_uri": "https://localhost:8080/"
        },
        "id": "Vz7KKorVjUDw",
        "outputId": "3872f6ee-61c0-4fa2-db70-c6d8bd891278"
      },
      "execution_count": null,
      "outputs": [
        {
          "output_type": "execute_result",
          "data": {
            "text/plain": [
              "-5.0"
            ]
          },
          "metadata": {},
          "execution_count": 4
        }
      ]
    },
    {
      "cell_type": "markdown",
      "source": [
        "# **Task 2: Rectangle class:**\n",
        "1. Write a Rectangle class in Python language, allowing you to build a rectangle with length and width\n",
        "attributes.\n",
        "2. Create a Perimeter() method to calculate the perimeter of the rectangle and a Area() method to\n",
        "calculate the area of the rectangle.\n",
        "3. Create a method display() that display the length, width, perimeter and area of an object created\n",
        "using an instantiation on rectangle class.\n",
        "4. Create a Parallelepipede child class inheriting from the Rectangle class and with a height attribute\n",
        "and another Volume() method to calculate the volume of the Parallelepiped."
      ],
      "metadata": {
        "id": "B76Dc9Zdjlwh"
      }
    },
    {
      "cell_type": "code",
      "source": [
        "class Rectangle():\n",
        "  def __init__(self, length, width):\n",
        "    self.length = length\n",
        "    self.width = width\n",
        "\n",
        "  def Perimeter(self):\n",
        "    return 2 * (self.length + self.width)\n",
        "\n",
        "  def Area(self):\n",
        "    return self.length * self.width\n",
        "\n",
        "  def display(self):\n",
        "    print(\"Length: \", self.length)\n",
        "    print(\"Width: \", self.width)\n",
        "    print(\"Perimeter: \", self.Perimeter())\n",
        "    print(\"Area: \", self.Area())\n",
        "\n",
        "class Parallelepipede(Rectangle):\n",
        "  def __init__(self, length, width, height):\n",
        "    super().__init__(length, width)\n",
        "    self.height = height\n",
        "\n",
        "  def Volume(self):\n",
        "    return self.length * self.width * self.height"
      ],
      "metadata": {
        "id": "OYrlpJSnjpza"
      },
      "execution_count": null,
      "outputs": []
    },
    {
      "cell_type": "code",
      "source": [
        "Shape1= Rectangle(2,5)\n",
        "Shape1.Perimeter()"
      ],
      "metadata": {
        "colab": {
          "base_uri": "https://localhost:8080/"
        },
        "id": "tBX4GgUkk5il",
        "outputId": "d28f1792-8741-4dcc-c9aa-f7ceb7740153"
      },
      "execution_count": null,
      "outputs": [
        {
          "output_type": "execute_result",
          "data": {
            "text/plain": [
              "14"
            ]
          },
          "metadata": {},
          "execution_count": 6
        }
      ]
    },
    {
      "cell_type": "code",
      "source": [
        "Shape1.Area()"
      ],
      "metadata": {
        "colab": {
          "base_uri": "https://localhost:8080/"
        },
        "id": "fnU4J_LhlHI3",
        "outputId": "f6700979-cd65-40b6-d819-9e9c8aeba687"
      },
      "execution_count": null,
      "outputs": [
        {
          "output_type": "execute_result",
          "data": {
            "text/plain": [
              "10"
            ]
          },
          "metadata": {},
          "execution_count": 7
        }
      ]
    },
    {
      "cell_type": "code",
      "source": [
        "Shape1.display()"
      ],
      "metadata": {
        "colab": {
          "base_uri": "https://localhost:8080/"
        },
        "id": "-014hb8ylMlg",
        "outputId": "6a568078-4dea-4729-9fb5-7af6b4da56a8"
      },
      "execution_count": null,
      "outputs": [
        {
          "output_type": "stream",
          "name": "stdout",
          "text": [
            "Length:  2\n",
            "Width:  5\n",
            "Perimeter:  14\n",
            "Area:  10\n"
          ]
        }
      ]
    },
    {
      "cell_type": "code",
      "source": [
        "Shape2= Parallelepipede(3,4,5)\n",
        "Shape2.Volume()"
      ],
      "metadata": {
        "colab": {
          "base_uri": "https://localhost:8080/"
        },
        "id": "P17KSqkLlPEH",
        "outputId": "f8450d18-33c1-4988-b501-36831dd3b8ce"
      },
      "execution_count": null,
      "outputs": [
        {
          "output_type": "execute_result",
          "data": {
            "text/plain": [
              "60"
            ]
          },
          "metadata": {},
          "execution_count": 11
        }
      ]
    },
    {
      "cell_type": "markdown",
      "source": [
        "# Task 3: Person class and child Student class\n",
        "Create a Python class Person with attributes: name and age of type string.\n",
        "1. Create a display() method that displays the name and age of an object created via the Person class.\n",
        "2. Create a child class Student which inherits from the Person class and which also has a section\n",
        "attribute.\n",
        "3. Create a method displayStudent() that displays the name, age and section of an object created via the\n",
        "Student class.\n",
        "4. Create a student object via an instantiation on the Student class and then test the displayStudent\n",
        "method."
      ],
      "metadata": {
        "id": "HeYJ7MjXlmq_"
      }
    },
    {
      "cell_type": "code",
      "source": [
        "class Person():\n",
        "  def __init__(self, name, age):\n",
        "    self.name = name\n",
        "    self.age = age\n",
        "\n",
        "  def display(self):\n",
        "    print(\"Name: \", self.name)\n",
        "    print(\"Age: \", self.age)\n",
        "\n",
        "class Student(Person):\n",
        "  def __init__(self, name, age,section):\n",
        "    super().__init__(name, age)\n",
        "    self.section = section\n",
        "\n",
        "  def displayStudent(self):\n",
        "    print(\"Name: \", self.name)\n",
        "    print(\"Age: \", self.age)\n",
        "    print(\"Section: \", self.section)"
      ],
      "metadata": {
        "id": "H1sKnBMMlpj4"
      },
      "execution_count": null,
      "outputs": []
    },
    {
      "cell_type": "code",
      "source": [
        "Input1=Student(\"Dahlia\",35,\"A\")\n",
        "Input1.displayStudent()"
      ],
      "metadata": {
        "colab": {
          "base_uri": "https://localhost:8080/"
        },
        "id": "n9WLI8ZAnpJg",
        "outputId": "e93e545a-6a07-433a-b6e6-da9fc7199c1a"
      },
      "execution_count": null,
      "outputs": [
        {
          "output_type": "stream",
          "name": "stdout",
          "text": [
            "Name:  Dahlia\n",
            "Age:  35\n",
            "Section:  A\n"
          ]
        }
      ]
    },
    {
      "cell_type": "code",
      "source": [],
      "metadata": {
        "id": "QAS9VWQInzpe"
      },
      "execution_count": null,
      "outputs": []
    }
  ]
}